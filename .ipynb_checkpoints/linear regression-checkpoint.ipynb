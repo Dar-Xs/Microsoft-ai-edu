{
 "cells": [
  {
   "cell_type": "code",
   "execution_count": 1,
   "metadata": {},
   "outputs": [
    {
     "data": {
      "text/plain": [
       "'\\nread the dataset from file ,then create a (1000,3)list (without x y z in the front)  \\n读取文件，写成（1000,3）的list （除去文件开头的x y z）\\n'"
      ]
     },
     "execution_count": 1,
     "metadata": {},
     "output_type": "execute_result"
    }
   ],
   "source": [
    "import numpy as np\n",
    "from itertools import islice\n",
    "\n",
    "fi = open(\"Dataset/mlm.csv\",\"r\")\n",
    "ls = []\n",
    "for row in islice(fi, 1, None):\n",
    "    e = list(map(float,row.strip(\"\\n\").split(\",\")))\n",
    "    ls.append(e)\n",
    "\n",
    "#print(ls)\n",
    "'''\n",
    "read the dataset from file ,then create a (1000,3)list (without x y z in the front)  \n",
    "读取文件，写成（1000,3）的list （除去文件开头的x y z）\n",
    "'''"
   ]
  },
  {
   "cell_type": "code",
   "execution_count": 2,
   "metadata": {},
   "outputs": [
    {
     "data": {
      "text/plain": [
       "'\\nuse the list to create the input x_matrix and cheak point y_matrix\\n用list创建用来输入的x矩阵 和用于检查的y矩阵\\n\\n'"
      ]
     },
     "execution_count": 2,
     "metadata": {},
     "output_type": "execute_result"
    }
   ],
   "source": [
    "\n",
    "x = np.array(ls).T\n",
    "x = np.delete(x,2,0)\n",
    "\n",
    "y = np.array(ls).T\n",
    "y = np.delete(y,0,0)\n",
    "y = np.delete(y,0,0)\n",
    "\n",
    "#print(x)\n",
    "#print(y.shape)\n",
    "\n",
    "'''\n",
    "use the list to create the input x_matrix and cheak point y_matrix\n",
    "用list创建用来输入的x矩阵 和用于检查的y矩阵\n",
    "\n",
    "'''"
   ]
  },
  {
   "cell_type": "code",
   "execution_count": 3,
   "metadata": {},
   "outputs": [
    {
     "data": {
      "text/plain": [
       "'\\nUse a linear regression model(a = np.dot(w.T,x) + b)\\n使用线性回归模型(a = np.dot(w.T,x) + b)\\n\\nRandom initialization parameters\\n随机初始化参数\\n'"
      ]
     },
     "execution_count": 3,
     "metadata": {},
     "output_type": "execute_result"
    }
   ],
   "source": [
    "w = np.random.randn(2,1)\n",
    "b = np.random.randn(1,1)\n",
    "\n",
    "#print(w)\n",
    "#print(b)\n",
    "\n",
    "'''\n",
    "Use a linear regression model(a = np.dot(w.T,x) + b)\n",
    "使用线性回归模型(a = np.dot(w.T,x) + b)\n",
    "\n",
    "Random initialization parameters\n",
    "随机初始化参数\n",
    "'''\n"
   ]
  },
  {
   "cell_type": "code",
   "execution_count": 4,
   "metadata": {},
   "outputs": [
    {
     "data": {
      "text/plain": [
       "'\\nCalculate the estimated value matrix\\n计算估计值矩阵\\n'"
      ]
     },
     "execution_count": 4,
     "metadata": {},
     "output_type": "execute_result"
    }
   ],
   "source": [
    "a = np.dot(w.T,x) + b\n",
    "#print(a)\n",
    "'''\n",
    "Calculate the estimated value matrix\n",
    "计算估计值矩阵\n",
    "'''"
   ]
  },
  {
   "cell_type": "code",
   "execution_count": 5,
   "metadata": {},
   "outputs": [
    {
     "data": {
      "text/plain": [
       "'\\nCalculate the parametric gradient\\n计算出参数梯度\\n\\n(a-y)^2) /2 as the loss function\\n[(a-y)^2]/2作为损失函数\\n'"
      ]
     },
     "execution_count": 5,
     "metadata": {},
     "output_type": "execute_result"
    }
   ],
   "source": [
    "da = a-y\n",
    "dw = np.dot(da,x.T).T / 10000000\n",
    "db = np.sum( da , axis=1 ,keepdims=True ) / 10000000\n",
    "\n",
    "'''\n",
    "Calculate the parametric gradient\n",
    "计算出参数梯度\n",
    "\n",
    "(a-y)^2) /2 as the loss function\n",
    "[(a-y)^2]/2作为损失函数\n",
    "'''\n",
    "#print(da)\n",
    "#print(dw)\n",
    "#print(db)"
   ]
  },
  {
   "cell_type": "code",
   "execution_count": 6,
   "metadata": {},
   "outputs": [
    {
     "data": {
      "text/plain": [
       "'\\nGradient descent\\n梯度下降\\n'"
      ]
     },
     "execution_count": 6,
     "metadata": {},
     "output_type": "execute_result"
    }
   ],
   "source": [
    "w -= dw\n",
    "b -= db\n",
    "\n",
    "'''\n",
    "Gradient descent\n",
    "梯度下降\n",
    "'''"
   ]
  },
  {
   "cell_type": "code",
   "execution_count": 7,
   "metadata": {},
   "outputs": [
    {
     "data": {
      "text/plain": [
       "'\\nDo it all over again\\n完整的做一次\\n'"
      ]
     },
     "execution_count": 7,
     "metadata": {},
     "output_type": "execute_result"
    }
   ],
   "source": [
    "a = np.dot(w.T,x) + b\n",
    "\n",
    "da = a-y\n",
    "dw = np.dot(da,x.T).T / 100000000\n",
    "db = np.sum( da , axis=1 ,keepdims=True ) / 100000000\n",
    "\n",
    "w -= dw\n",
    "b -= db\n",
    "'''\n",
    "Do it all over again\n",
    "完整的做一次\n",
    "'''"
   ]
  },
  {
   "cell_type": "code",
   "execution_count": 8,
   "metadata": {},
   "outputs": [
    {
     "name": "stdout",
     "output_type": "stream",
     "text": [
      "[[-3.27825406e-14]]\n"
     ]
    },
    {
     "data": {
      "text/plain": [
       "'\\nDo 100,000 cycles\\n循环做100000次\\n\\nCalculate the percentage error\\n计算出百分误差\\n\\n'"
      ]
     },
     "execution_count": 8,
     "metadata": {},
     "output_type": "execute_result"
    }
   ],
   "source": [
    "for i in range(100000):\n",
    "    a = np.dot(w.T,x) + b\n",
    "\n",
    "    da = a-y\n",
    "    \n",
    "    dw = np.dot(da,x.T).T / 10000000\n",
    "    db = np.sum( da , axis=1 ,keepdims=True ) / 1000\n",
    "\n",
    "    w -= dw\n",
    "    b -= db\n",
    "ds = np.sum( da , axis=1 ,keepdims=True )\n",
    "s = np.sum( y , axis=1 ,keepdims=True )\n",
    "print(100*ds/s)\n",
    "\n",
    "\n",
    "'''\n",
    "Do 100,000 cycles\n",
    "循环做100000次\n",
    "\n",
    "Calculate the percentage error\n",
    "计算出百分误差\n",
    "\n",
    "'''"
   ]
  },
  {
   "cell_type": "code",
   "execution_count": 9,
   "metadata": {},
   "outputs": [
    {
     "name": "stdout",
     "output_type": "stream",
     "text": [
      "[[3.02015701]]\n",
      "[[1.83163118]]\n",
      "[[-3.02097652]]\n"
     ]
    },
    {
     "data": {
      "text/plain": [
       "'\\nPlug in three test points and see how much the error is\\n带入3个测试点看一看误差\\n\\n'"
      ]
     },
     "execution_count": 9,
     "metadata": {},
     "output_type": "execute_result"
    }
   ],
   "source": [
    "e = np.mat([[64.32], [6.21]])\n",
    "#[[64.32, 6.21, 236.5220491][28.3, 22.62, 30.98357864][19.69, 46.77, -89.8541616]\n",
    "print(np.dot(w.T,e) + b - 236.5220491)\n",
    "\n",
    "e = np.mat([[28.3], [22.62]])\n",
    "print(np.dot(w.T,e) + b - 30.98357864)\n",
    "e = np.mat([[19.69], [46.77]])\n",
    "print(np.dot(w.T,e) + b - -89.8541616)\n",
    "\n",
    "\n",
    "\n",
    "'''\n",
    "Plug in three test points and see how much the error is\n",
    "带入3个测试点看一看误差\n",
    "\n",
    "'''"
   ]
  }
 ],
 "metadata": {
  "kernelspec": {
   "display_name": "Python 3",
   "language": "python",
   "name": "python3"
  },
  "language_info": {
   "codemirror_mode": {
    "name": "ipython",
    "version": 3
   },
   "file_extension": ".py",
   "mimetype": "text/x-python",
   "name": "python",
   "nbconvert_exporter": "python",
   "pygments_lexer": "ipython3",
   "version": "3.8.3"
  }
 },
 "nbformat": 4,
 "nbformat_minor": 4
}
